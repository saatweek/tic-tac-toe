
  {
   "cell_type": "code",
   "execution_count": 2,
   "metadata": {},
   "outputs": [
    {
     "name": "stdout",
     "output_type": "stream",
     "text": [
      " X | O | X\n",
      "___________\n",
      " O | O | X\n",
      "___________\n",
      " O |   | O\n",
      "\n"
     ]
    }
   ],
   "source": [
    "from IPython.display import clear_output\n",
    "def print_board(board):\n",
    "    clear_output()\n",
    "    print(\"\",board[0],\"|\",board[1],\"|\",board[2])\n",
    "    print(\"___________\")\n",
    "    print(\"\",board[3],\"|\",board[4],\"|\",board[5])\n",
    "    print(\"___________\")\n",
    "    print(\"\",board[6],\"|\",board[7],\"|\",board[8])\n",
    "    print(\"\")\n",
    "board1=[\" \"]*10\n",
    "print_board(board1)\n",
    "turn=0\n",
    "def movex():\n",
    "    indx=int(input('Enter the index of X : '))\n",
    "    if board1[indx-1]==\" \":\n",
    "        board1[indx-1]='X'\n",
    "        print_board(board1)\n",
    "    else:\n",
    "        print(\"Invalid Move\")\n",
    "def moveo():\n",
    "    indo=int(input('Enter the index of O : '))\n",
    "    if board1[indo-1]==\" \":\n",
    "        board1[indo-1]='O'\n",
    "        print_board(board1)\n",
    "    else:\n",
    "        print(\"Invalid Move\") \n",
    "def check_win():\n",
    "    if (board1[0]==board1[1]==board1[2]=='X') or (board1[3]==board1[4]==board1[5]=='X') or (board1[6]==board1[7]==board1[8]=='X') or (board1[0]==board1[3]==board1[6]=='X') or (board1[1]==board1[4]==board1[7]=='X') or (board1[2]==board1[5]==board1[8]=='X' or (board1[0]==board1[4]==board1[8]=='X') or (board1[2]==board1[4]==board1[6]=='X')):\n",
    "        print('X wins!')\n",
    "    elif (board1[0]==board1[1]==board1[2]=='O') or (board1[3]==board1[4]==board1[5]=='O') or (board1[6]==board1[7]==board1[8]=='O') or (board1[0]==board1[3]==board1[6]=='O') or (board1[1]==board1[4]==board1[7]=='O') or (board1[2]==board1[5]==board1[8]=='O' or (board1[0]==board1[4]==board1[8]=='O') or (board1[2]==board1[4]==board1[6]=='O')):\n",
    "        print(\"O wins!\")\n",
    "while turn<10:\n",
    "    turn=turn+1\n",
    "    if turn==9:\n",
    "        print(\"GAME DRAW\")\n",
    "    elif turn%2!=0:\n",
    "        movex()\n",
    "        check_win()\n",
    "    elif turn%2==0:\n",
    "        moveo()\n",
    "        check_win()\n"
   ]
  },
  {
   "cell_type": "code",
   "execution_count": 8,
   "metadata": {},
   "outputs": [
    {
     "name": "stdout",
     "output_type": "stream",
     "text": [
      "Enter the index of x 3\n",
      "the index of x is 3\n"
     ]
    }
   ],
   "source": [
    "def movex():\n",
    "    indx =int(input('Enter the index of x ' ))\n",
    "    print('the index of x is', indx)\n",
    "movex()"
   ]
  },
  {
   "cell_type": "code",
   "execution_count": null,
   "metadata": {},
   "outputs": [],
   "source": []
  }
 ],
 "metadata": {
  "kernelspec": {
   "display_name": "Python 3",
   "language": "python",
   "name": "python3"
  },
  "language_info": {
   "codemirror_mode": {
    "name": "ipython",
    "version": 3
   },
   "file_extension": ".py",
   "mimetype": "text/x-python",
   "name": "python",
   "nbconvert_exporter": "python",
   "pygments_lexer": "ipython3",
   "version": "3.7.0"
  }
 },
 "nbformat": 4,
 "nbformat_minor": 1
}
